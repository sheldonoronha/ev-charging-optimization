{
 "cells": [
  {
   "cell_type": "code",
   "execution_count": 1,
   "metadata": {},
   "outputs": [
    {
     "name": "stdout",
     "output_type": "stream",
     "text": [
      "Data saved as 'ontario_gas_stations.csv'\n",
      "           Name         Brand   Latitude  Longitude\n",
      "0          Esso          Esso  43.408347 -80.328698\n",
      "1         Shell         Shell  43.411170 -80.308820\n",
      "2          Esso          Esso  43.459499 -80.134146\n",
      "3  Petro-Canada  Petro-Canada  43.493588 -79.991969\n",
      "4         Shell         Shell  44.266705 -76.498106\n"
     ]
    }
   ],
   "source": [
    "import requests\n",
    "import json\n",
    "import pandas as pd\n",
    "\n",
    "# Overpass API URL\n",
    "overpass_url = \"http://overpass-api.de/api/interpreter\"\n",
    "\n",
    "# Overpass Query to get gas stations in Ontario\n",
    "overpass_query = \"\"\"\n",
    "[out:json][timeout:60];\n",
    "area[name=\"Ontario\"][\"ISO3166-2\"=\"CA-ON\"]->.searchArea;\n",
    "(\n",
    "  node[\"amenity\"=\"fuel\"](area.searchArea);\n",
    "  way[\"amenity\"=\"fuel\"](area.searchArea);\n",
    "  relation[\"amenity\"=\"fuel\"](area.searchArea);\n",
    ");\n",
    "out center;\n",
    "\"\"\"\n",
    "\n",
    "# Fetch data from Overpass API\n",
    "response = requests.get(overpass_url, params={'data': overpass_query})\n",
    "\n",
    "if response.status_code == 200:\n",
    "    data = response.json()\n",
    "\n",
    "    # Process the data\n",
    "    gas_stations = []\n",
    "    for element in data[\"elements\"]:\n",
    "        lat = element.get(\"lat\", element.get(\"center\", {}).get(\"lat\"))\n",
    "        lon = element.get(\"lon\", element.get(\"center\", {}).get(\"lon\"))\n",
    "        name = element.get(\"tags\", {}).get(\"name\", \"Unknown\")\n",
    "        brand = element.get(\"tags\", {}).get(\"brand\", \"Unknown\")\n",
    "\n",
    "        gas_stations.append({\n",
    "            \"Name\": name,\n",
    "            \"Brand\": brand,\n",
    "            \"Latitude\": lat,\n",
    "            \"Longitude\": lon\n",
    "        })\n",
    "\n",
    "    # Convert to DataFrame\n",
    "    df = pd.DataFrame(gas_stations)\n",
    "\n",
    "    # Save to CSV\n",
    "    df.to_csv(\"ontario_gas_stations.csv\", index=False)\n",
    "    print(\"Data saved as 'ontario_gas_stations.csv'\")\n",
    "\n",
    "    # Display first 5 rows\n",
    "    print(df.head())\n",
    "\n",
    "else:\n",
    "    print(f\"Error: Unable to fetch data (HTTP {response.status_code})\")\n"
   ]
  }
 ],
 "metadata": {
  "kernelspec": {
   "display_name": "Python 3",
   "language": "python",
   "name": "python3"
  },
  "language_info": {
   "codemirror_mode": {
    "name": "ipython",
    "version": 3
   },
   "file_extension": ".py",
   "mimetype": "text/x-python",
   "name": "python",
   "nbconvert_exporter": "python",
   "pygments_lexer": "ipython3",
   "version": "3.12.6"
  }
 },
 "nbformat": 4,
 "nbformat_minor": 2
}
